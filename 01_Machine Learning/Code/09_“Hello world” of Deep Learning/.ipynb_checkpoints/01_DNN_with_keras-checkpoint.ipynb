{
 "cells": [
  {
   "cell_type": "code",
   "execution_count": 1,
   "metadata": {},
   "outputs": [],
   "source": [
    "import numpy as np\n",
    "from tqdm import tqdm\n",
    "import matplotlib.pyplot as plt\n",
    "import seaborn as sns\n",
    "# sns.set(rc = {\"axes.titlesize\": 20, \"axes.labelsize\": 15, \"legend.fontsize\": 15, \\\n",
    "#               \"lines.linewidth\": 3, \"figure.figsize\": (9, 4)})"
   ]
  },
  {
   "cell_type": "code",
   "execution_count": 2,
   "metadata": {},
   "outputs": [
    {
     "name": "stdout",
     "output_type": "stream",
     "text": [
      "x_train shape: (60000, 784)\n",
      "x_test shape: (10000, 784)\n"
     ]
    }
   ],
   "source": [
    "import tensorflow as tf\n",
    "\n",
    "# Set parameters of data.\n",
    "num_classes = 10\n",
    "input_shape = (28 * 28,)\n",
    "\n",
    "# Get training_data and testing_data.\n",
    "(x_train, y_train), (x_test, y_test) = tf.keras.datasets.mnist.load_data()\n",
    "\n",
    "# Make sure each image has the shape (28 * 28, 1).\n",
    "x_train = x_train.reshape(x_train.shape[0], 28 * 28)\n",
    "x_test = x_test.reshape(x_test.shape[0], 28 * 28)\n",
    "\n",
    "# Scale images to the [0, 1] range.\n",
    "x_train = x_train.astype(\"float32\") / 255\n",
    "x_test = x_test.astype(\"float32\") / 255\n",
    "\n",
    "print(\"x_train shape:\", x_train.shape)\n",
    "print(\"x_test shape:\", x_test.shape)"
   ]
  },
  {
   "cell_type": "code",
   "execution_count": 3,
   "metadata": {},
   "outputs": [],
   "source": [
    "# CategoricalCrossentropy: one-hot representation\n",
    "# SparseCategoricalCrossentropy: integers\n",
    "\n",
    "# Use one-hot econding to change y. (In this file, we use CategoricalCrossentropy.)\n",
    "y_train = tf.keras.utils.to_categorical(y_train, num_classes)\n",
    "y_test = tf.keras.utils.to_categorical(y_test, num_classes)"
   ]
  },
  {
   "cell_type": "code",
   "execution_count": 4,
   "metadata": {},
   "outputs": [
    {
     "name": "stdout",
     "output_type": "stream",
     "text": [
      "Model: \"DNN\"\n",
      "_________________________________________________________________\n",
      "Layer (type)                 Output Shape              Param #   \n",
      "=================================================================\n",
      "hidden_layer_1 (Dense)       (None, 500)               392500    \n",
      "_________________________________________________________________\n",
      "hidden_layer_2 (Dense)       (None, 500)               250500    \n",
      "_________________________________________________________________\n",
      "output_layer (Dense)         (None, 10)                5010      \n",
      "=================================================================\n",
      "Total params: 648,010\n",
      "Trainable params: 648,010\n",
      "Non-trainable params: 0\n",
      "_________________________________________________________________\n"
     ]
    }
   ],
   "source": [
    "from tensorflow.keras import layers\n",
    "\n",
    "# Build the model.\n",
    "model = tf.keras.Sequential(\n",
    "    [\n",
    "        tf.keras.Input(shape=input_shape),\n",
    "        tf.keras.layers.Dense(500, activation=\"relu\", name=\"hidden_layer_1\"),\n",
    "        tf.keras.layers.Dense(500, activation=\"relu\", name=\"hidden_layer_2\"),\n",
    "        tf.keras.layers.Dense(num_classes, activation=\"softmax\", name=\"output_layer\"),\n",
    "    ], name = \"DNN\"\n",
    ")\n",
    "\n",
    "model.summary()"
   ]
  },
  {
   "cell_type": "code",
   "execution_count": 5,
   "metadata": {},
   "outputs": [
    {
     "name": "stdout",
     "output_type": "stream",
     "text": [
      "Epoch 1/15\n",
      "422/422 [==============================] - 3s 7ms/step - loss: 0.2297 - accuracy: 0.9323 - val_loss: 0.0876 - val_accuracy: 0.9757\n",
      "Epoch 2/15\n",
      "422/422 [==============================] - 3s 7ms/step - loss: 0.0808 - accuracy: 0.9746 - val_loss: 0.0749 - val_accuracy: 0.9760\n",
      "Epoch 3/15\n",
      "422/422 [==============================] - 3s 7ms/step - loss: 0.0543 - accuracy: 0.9825 - val_loss: 0.0817 - val_accuracy: 0.9737\n",
      "Epoch 4/15\n",
      "422/422 [==============================] - 3s 7ms/step - loss: 0.0377 - accuracy: 0.9871 - val_loss: 0.0810 - val_accuracy: 0.9773\n",
      "Epoch 5/15\n",
      "422/422 [==============================] - 3s 7ms/step - loss: 0.0268 - accuracy: 0.9914 - val_loss: 0.0716 - val_accuracy: 0.9803\n",
      "Epoch 6/15\n",
      "422/422 [==============================] - 3s 7ms/step - loss: 0.0196 - accuracy: 0.9933 - val_loss: 0.0859 - val_accuracy: 0.9788\n",
      "Epoch 7/15\n",
      "422/422 [==============================] - 3s 7ms/step - loss: 0.0188 - accuracy: 0.9935 - val_loss: 0.0811 - val_accuracy: 0.9817\n",
      "Epoch 8/15\n",
      "422/422 [==============================] - 3s 7ms/step - loss: 0.0176 - accuracy: 0.9938 - val_loss: 0.0866 - val_accuracy: 0.9808\n",
      "Epoch 9/15\n",
      "422/422 [==============================] - 3s 7ms/step - loss: 0.0157 - accuracy: 0.9945 - val_loss: 0.0803 - val_accuracy: 0.9798\n",
      "Epoch 10/15\n",
      "422/422 [==============================] - 3s 7ms/step - loss: 0.0107 - accuracy: 0.9966 - val_loss: 0.0855 - val_accuracy: 0.9823\n",
      "Epoch 11/15\n",
      "422/422 [==============================] - 3s 7ms/step - loss: 0.0149 - accuracy: 0.9946 - val_loss: 0.0842 - val_accuracy: 0.9822\n",
      "Epoch 12/15\n",
      "422/422 [==============================] - 3s 8ms/step - loss: 0.0089 - accuracy: 0.9973 - val_loss: 0.0805 - val_accuracy: 0.9833\n",
      "Epoch 13/15\n",
      "422/422 [==============================] - 4s 8ms/step - loss: 0.0090 - accuracy: 0.9971 - val_loss: 0.0882 - val_accuracy: 0.9818\n",
      "Epoch 14/15\n",
      "422/422 [==============================] - 3s 8ms/step - loss: 0.0070 - accuracy: 0.9975 - val_loss: 0.1075 - val_accuracy: 0.9772\n",
      "Epoch 15/15\n",
      "422/422 [==============================] - 3s 8ms/step - loss: 0.0130 - accuracy: 0.9958 - val_loss: 0.0958 - val_accuracy: 0.9812\n"
     ]
    }
   ],
   "source": [
    "# Train the model.\n",
    "batch_size = 128\n",
    "epochs = 15\n",
    "\n",
    "model.compile(loss=\"categorical_crossentropy\", optimizer=\"adam\", metrics=[\"accuracy\"])\n",
    "\n",
    "model.fit(x_train, y_train, batch_size=batch_size, epochs=epochs, validation_split=0.1);"
   ]
  },
  {
   "cell_type": "code",
   "execution_count": 6,
   "metadata": {},
   "outputs": [
    {
     "name": "stdout",
     "output_type": "stream",
     "text": [
      "Test loss: 0.10825911909341812\n",
      "Test accuracy: 0.9793999791145325\n"
     ]
    }
   ],
   "source": [
    "# Evaluate the trained model.\n",
    "test_loss, test_accuracy = model.evaluate(x_test, y_test, verbose=0)\n",
    "print(\"Test loss:\", test_loss)\n",
    "print(\"Test accuracy:\", test_accuracy)"
   ]
  }
 ],
 "metadata": {
  "kernelspec": {
   "display_name": "Python 3",
   "language": "python",
   "name": "python3"
  },
  "language_info": {
   "codemirror_mode": {
    "name": "ipython",
    "version": 3
   },
   "file_extension": ".py",
   "mimetype": "text/x-python",
   "name": "python",
   "nbconvert_exporter": "python",
   "pygments_lexer": "ipython3",
   "version": "3.8.5"
  }
 },
 "nbformat": 4,
 "nbformat_minor": 4
}
