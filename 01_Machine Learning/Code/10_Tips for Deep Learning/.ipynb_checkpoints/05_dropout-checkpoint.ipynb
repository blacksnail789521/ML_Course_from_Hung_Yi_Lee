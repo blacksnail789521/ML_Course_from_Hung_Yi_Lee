{
 "cells": [
  {
   "cell_type": "code",
   "execution_count": 1,
   "metadata": {},
   "outputs": [],
   "source": [
    "import numpy as np\n",
    "from tqdm import tqdm\n",
    "import matplotlib.pyplot as plt\n",
    "import seaborn as sns\n",
    "# sns.set(rc = {\"axes.titlesize\": 20, \"axes.labelsize\": 15, \"legend.fontsize\": 15, \\\n",
    "#               \"lines.linewidth\": 3, \"figure.figsize\": (9, 4)})"
   ]
  },
  {
   "cell_type": "code",
   "execution_count": 2,
   "metadata": {},
   "outputs": [
    {
     "name": "stdout",
     "output_type": "stream",
     "text": [
      "x_train shape: (60000, 784)\n",
      "x_test shape: (10000, 784)\n"
     ]
    }
   ],
   "source": [
    "import tensorflow as tf\n",
    "\n",
    "# Set parameters of data.\n",
    "num_classes = 10\n",
    "input_shape = (28 * 28,)\n",
    "\n",
    "# Get training_data and testing_data.\n",
    "(x_train, y_train), (x_test, y_test) = tf.keras.datasets.mnist.load_data()\n",
    "\n",
    "# Make sure each image has the shape (28 * 28, 1).\n",
    "x_train = x_train.reshape(x_train.shape[0], 28 * 28)\n",
    "x_test = x_test.reshape(x_test.shape[0], 28 * 28)\n",
    "\n",
    "# Scale images to the [0, 1] range.\n",
    "x_train = x_train.astype(\"float32\") / 255\n",
    "x_test = x_test.astype(\"float32\") / 255\n",
    "\n",
    "print(\"x_train shape:\", x_train.shape)\n",
    "print(\"x_test shape:\", x_test.shape)"
   ]
  },
  {
   "cell_type": "code",
   "execution_count": 3,
   "metadata": {},
   "outputs": [
    {
     "name": "stdout",
     "output_type": "stream",
     "text": [
      "Model: \"DNN_with_Dropout\"\n",
      "_________________________________________________________________\n",
      "Layer (type)                 Output Shape              Param #   \n",
      "=================================================================\n",
      "hidden_layer_1 (Dense)       (None, 500)               392500    \n",
      "_________________________________________________________________\n",
      "dropout_1 (Dropout)          (None, 500)               0         \n",
      "_________________________________________________________________\n",
      "hidden_layer_2 (Dense)       (None, 500)               250500    \n",
      "_________________________________________________________________\n",
      "dropout_2 (Dropout)          (None, 500)               0         \n",
      "_________________________________________________________________\n",
      "output_layer (Dense)         (None, 10)                5010      \n",
      "=================================================================\n",
      "Total params: 648,010\n",
      "Trainable params: 648,010\n",
      "Non-trainable params: 0\n",
      "_________________________________________________________________\n"
     ]
    }
   ],
   "source": [
    "# Build the model.\n",
    "model = tf.keras.Sequential(\n",
    "    [\n",
    "        tf.keras.Input(shape=input_shape),\n",
    "        tf.keras.layers.Dense(500, name=\"hidden_layer_1\"),\n",
    "        tf.keras.layers.Dropout(rate=0.5, name=\"dropout_1\"),\n",
    "        tf.keras.layers.Dense(500, name=\"hidden_layer_2\"),\n",
    "        tf.keras.layers.Dropout(rate=0.5, name=\"dropout_2\"),\n",
    "        tf.keras.layers.Dense(num_classes, activation=\"softmax\", name=\"output_layer\"),\n",
    "    ], name = \"DNN_with_Dropout\"\n",
    ")\n",
    "\n",
    "model.summary()"
   ]
  },
  {
   "cell_type": "code",
   "execution_count": 4,
   "metadata": {},
   "outputs": [
    {
     "name": "stdout",
     "output_type": "stream",
     "text": [
      "Epoch 1/15\n",
      "422/422 [==============================] - 3s 7ms/step - loss: 0.5061 - accuracy: 0.8509 - val_loss: 0.2705 - val_accuracy: 0.9255\n",
      "Epoch 2/15\n",
      "422/422 [==============================] - 3s 7ms/step - loss: 0.4027 - accuracy: 0.8861 - val_loss: 0.2604 - val_accuracy: 0.9262\n",
      "Epoch 3/15\n",
      "422/422 [==============================] - 3s 7ms/step - loss: 0.3796 - accuracy: 0.8912 - val_loss: 0.2589 - val_accuracy: 0.9277\n",
      "Epoch 4/15\n",
      "422/422 [==============================] - 3s 7ms/step - loss: 0.3673 - accuracy: 0.8949 - val_loss: 0.2510 - val_accuracy: 0.9305\n",
      "Epoch 5/15\n",
      "422/422 [==============================] - 3s 7ms/step - loss: 0.3591 - accuracy: 0.8972 - val_loss: 0.2519 - val_accuracy: 0.9300\n",
      "Epoch 6/15\n",
      "422/422 [==============================] - 3s 7ms/step - loss: 0.3595 - accuracy: 0.8987 - val_loss: 0.2524 - val_accuracy: 0.9282\n",
      "Epoch 7/15\n",
      "422/422 [==============================] - 3s 7ms/step - loss: 0.3558 - accuracy: 0.8996 - val_loss: 0.2573 - val_accuracy: 0.9292\n",
      "Epoch 8/15\n",
      "422/422 [==============================] - 3s 7ms/step - loss: 0.3578 - accuracy: 0.8983 - val_loss: 0.2533 - val_accuracy: 0.9317\n",
      "Epoch 9/15\n",
      "422/422 [==============================] - 3s 7ms/step - loss: 0.3500 - accuracy: 0.9007 - val_loss: 0.2536 - val_accuracy: 0.9262\n",
      "Epoch 10/15\n",
      "422/422 [==============================] - 3s 7ms/step - loss: 0.3526 - accuracy: 0.9000 - val_loss: 0.2542 - val_accuracy: 0.9270\n",
      "Epoch 11/15\n",
      "422/422 [==============================] - 3s 7ms/step - loss: 0.3541 - accuracy: 0.8995 - val_loss: 0.2521 - val_accuracy: 0.9300\n",
      "Epoch 12/15\n",
      "422/422 [==============================] - 3s 7ms/step - loss: 0.3556 - accuracy: 0.8987 - val_loss: 0.2529 - val_accuracy: 0.9328\n",
      "Epoch 13/15\n",
      "422/422 [==============================] - 3s 7ms/step - loss: 0.3569 - accuracy: 0.8982 - val_loss: 0.2477 - val_accuracy: 0.9352\n",
      "Epoch 14/15\n",
      "422/422 [==============================] - 3s 8ms/step - loss: 0.3497 - accuracy: 0.9012 - val_loss: 0.2483 - val_accuracy: 0.9295\n",
      "Epoch 15/15\n",
      "422/422 [==============================] - 3s 7ms/step - loss: 0.3509 - accuracy: 0.9001 - val_loss: 0.2714 - val_accuracy: 0.9243\n"
     ]
    }
   ],
   "source": [
    "# Train the model.\n",
    "batch_size = 128\n",
    "epochs = 15\n",
    "\n",
    "model.compile(loss=\"sparse_categorical_crossentropy\", optimizer=\"adam\", metrics=[\"accuracy\"])\n",
    "\n",
    "model.fit(x_train, y_train, batch_size=batch_size, epochs=epochs, validation_split=0.1);"
   ]
  },
  {
   "cell_type": "code",
   "execution_count": 5,
   "metadata": {},
   "outputs": [
    {
     "name": "stdout",
     "output_type": "stream",
     "text": [
      "Test loss: 0.3162110447883606\n",
      "Test accuracy: 0.9124000072479248\n"
     ]
    }
   ],
   "source": [
    "# Evaluate the trained model.\n",
    "test_loss, test_accuracy = model.evaluate(x_test, y_test, verbose=0)\n",
    "print(\"Test loss:\", test_loss)\n",
    "print(\"Test accuracy:\", test_accuracy)"
   ]
  },
  {
   "cell_type": "code",
   "execution_count": null,
   "metadata": {},
   "outputs": [],
   "source": []
  }
 ],
 "metadata": {
  "kernelspec": {
   "display_name": "Python 3",
   "language": "python",
   "name": "python3"
  },
  "language_info": {
   "codemirror_mode": {
    "name": "ipython",
    "version": 3
   },
   "file_extension": ".py",
   "mimetype": "text/x-python",
   "name": "python",
   "nbconvert_exporter": "python",
   "pygments_lexer": "ipython3",
   "version": "3.8.5"
  }
 },
 "nbformat": 4,
 "nbformat_minor": 4
}
