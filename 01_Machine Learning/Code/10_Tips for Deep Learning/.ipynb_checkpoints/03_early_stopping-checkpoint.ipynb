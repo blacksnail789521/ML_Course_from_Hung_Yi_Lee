{
 "cells": [
  {
   "cell_type": "code",
   "execution_count": 27,
   "metadata": {},
   "outputs": [],
   "source": [
    "import numpy as np\n",
    "from tqdm import tqdm\n",
    "import matplotlib.pyplot as plt\n",
    "import seaborn as sns\n",
    "# sns.set(rc = {\"axes.titlesize\": 20, \"axes.labelsize\": 15, \"legend.fontsize\": 15, \\\n",
    "#               \"lines.linewidth\": 3, \"figure.figsize\": (9, 4)})"
   ]
  },
  {
   "cell_type": "code",
   "execution_count": 28,
   "metadata": {},
   "outputs": [
    {
     "name": "stdout",
     "output_type": "stream",
     "text": [
      "x_train shape: (60000, 784)\n",
      "x_test shape: (10000, 784)\n"
     ]
    }
   ],
   "source": [
    "from tensorflow import keras\n",
    "\n",
    "# Set parameters of data.\n",
    "num_classes = 10\n",
    "input_shape = (28 * 28,)\n",
    "\n",
    "# Get training_data and testing_data.\n",
    "(x_train, y_train), (x_test, y_test) = keras.datasets.mnist.load_data()\n",
    "\n",
    "# Make sure each image has the shape (28 * 28, 1).\n",
    "x_train = x_train.reshape(x_train.shape[0], 28 * 28)\n",
    "x_test = x_test.reshape(x_test.shape[0], 28 * 28)\n",
    "\n",
    "# Scale images to the [0, 1] range.\n",
    "x_train = x_train.astype(\"float32\") / 255\n",
    "x_test = x_test.astype(\"float32\") / 255\n",
    "\n",
    "print(\"x_train shape:\", x_train.shape)\n",
    "print(\"x_test shape:\", x_test.shape)"
   ]
  },
  {
   "cell_type": "code",
   "execution_count": 54,
   "metadata": {},
   "outputs": [
    {
     "name": "stdout",
     "output_type": "stream",
     "text": [
      "Model: \"DNN_with_Maxout\"\n",
      "_________________________________________________________________\n",
      "Layer (type)                 Output Shape              Param #   \n",
      "=================================================================\n",
      "hidden_layer_1 (Dense)       (None, 1000)              785000    \n",
      "_________________________________________________________________\n",
      "maxout_1 (Maxout)            (None, 500)               0         \n",
      "_________________________________________________________________\n",
      "hidden_layer_2 (Dense)       (None, 1000)              501000    \n",
      "_________________________________________________________________\n",
      "maxout_2 (Maxout)            (None, 500)               0         \n",
      "_________________________________________________________________\n",
      "output_layer (Dense)         (None, 10)                5010      \n",
      "=================================================================\n",
      "Total params: 1,291,010\n",
      "Trainable params: 1,291,010\n",
      "Non-trainable params: 0\n",
      "_________________________________________________________________\n"
     ]
    }
   ],
   "source": [
    "from tensorflow.keras import layers\n",
    "from tensorflow_addons.layers.maxout import Maxout\n",
    "\n",
    "# Build the model.\n",
    "model = keras.Sequential(\n",
    "    [\n",
    "        keras.Input(shape=input_shape),\n",
    "        layers.Dense(500*2, name=\"hidden_layer_1\"),\n",
    "        Maxout(num_units=500, name=\"maxout_1\"),\n",
    "        layers.Dense(500*2, name=\"hidden_layer_2\"),\n",
    "        Maxout(num_units=500, name=\"maxout_2\"),\n",
    "        layers.Dense(num_classes, activation=\"softmax\", name=\"output_layer\"),\n",
    "    ], name = \"DNN_with_Maxout\"\n",
    ")\n",
    "\n",
    "model.summary()"
   ]
  },
  {
   "cell_type": "code",
   "execution_count": 55,
   "metadata": {},
   "outputs": [
    {
     "name": "stdout",
     "output_type": "stream",
     "text": [
      "Epoch 1/15\n",
      "422/422 [==============================] - 6s 15ms/step - loss: 0.2049 - accuracy: 0.9376 - val_loss: 0.1209 - val_accuracy: 0.9627\n",
      "Epoch 2/15\n",
      "422/422 [==============================] - 6s 15ms/step - loss: 0.0920 - accuracy: 0.9719 - val_loss: 0.0834 - val_accuracy: 0.9748\n",
      "Epoch 3/15\n",
      "422/422 [==============================] - 6s 15ms/step - loss: 0.0623 - accuracy: 0.9807 - val_loss: 0.0870 - val_accuracy: 0.9752\n",
      "Epoch 4/15\n",
      "422/422 [==============================] - 7s 17ms/step - loss: 0.0505 - accuracy: 0.9846 - val_loss: 0.0887 - val_accuracy: 0.9777\n",
      "Epoch 5/15\n",
      "422/422 [==============================] - 7s 16ms/step - loss: 0.0403 - accuracy: 0.9875 - val_loss: 0.1115 - val_accuracy: 0.9738\n",
      "Epoch 6/15\n",
      "422/422 [==============================] - 7s 16ms/step - loss: 0.0384 - accuracy: 0.9882 - val_loss: 0.1157 - val_accuracy: 0.9748\n",
      "Epoch 7/15\n",
      "422/422 [==============================] - 7s 16ms/step - loss: 0.0422 - accuracy: 0.9877 - val_loss: 0.1128 - val_accuracy: 0.9760\n",
      "Epoch 8/15\n",
      "422/422 [==============================] - 6s 15ms/step - loss: 0.0359 - accuracy: 0.9892 - val_loss: 0.1056 - val_accuracy: 0.9785\n",
      "Epoch 9/15\n",
      "422/422 [==============================] - 6s 15ms/step - loss: 0.0253 - accuracy: 0.9921 - val_loss: 0.1142 - val_accuracy: 0.9797\n",
      "Epoch 10/15\n",
      "422/422 [==============================] - 7s 16ms/step - loss: 0.0312 - accuracy: 0.9915 - val_loss: 0.1579 - val_accuracy: 0.9755\n",
      "Epoch 11/15\n",
      "422/422 [==============================] - 6s 15ms/step - loss: 0.0272 - accuracy: 0.9921 - val_loss: 0.1230 - val_accuracy: 0.9820\n",
      "Epoch 12/15\n",
      "422/422 [==============================] - 6s 14ms/step - loss: 0.0257 - accuracy: 0.9929 - val_loss: 0.1156 - val_accuracy: 0.9797\n",
      "Epoch 13/15\n",
      "422/422 [==============================] - 6s 14ms/step - loss: 0.0277 - accuracy: 0.9925 - val_loss: 0.1292 - val_accuracy: 0.9810\n",
      "Epoch 14/15\n",
      "422/422 [==============================] - 6s 14ms/step - loss: 0.0163 - accuracy: 0.9954 - val_loss: 0.1406 - val_accuracy: 0.9800\n",
      "Epoch 15/15\n",
      "422/422 [==============================] - 6s 14ms/step - loss: 0.0271 - accuracy: 0.9931 - val_loss: 0.1581 - val_accuracy: 0.9777\n"
     ]
    }
   ],
   "source": [
    "# Train the model.\n",
    "batch_size = 128\n",
    "epochs = 15\n",
    "\n",
    "model.compile(loss=\"sparse_categorical_crossentropy\", optimizer=\"adam\", metrics=[\"accuracy\"])\n",
    "\n",
    "model.fit(x_train, y_train, batch_size=batch_size, epochs=epochs, validation_split=0.1);"
   ]
  },
  {
   "cell_type": "code",
   "execution_count": 56,
   "metadata": {},
   "outputs": [
    {
     "name": "stdout",
     "output_type": "stream",
     "text": [
      "Test loss: 0.14729195833206177\n",
      "Test accuracy: 0.9775999784469604\n"
     ]
    }
   ],
   "source": [
    "# Evaluate the trained model.\n",
    "test_loss, test_accuracy = model.evaluate(x_test, y_test, verbose=0)\n",
    "print(\"Test loss:\", test_loss)\n",
    "print(\"Test accuracy:\", test_accuracy)"
   ]
  },
  {
   "cell_type": "code",
   "execution_count": null,
   "metadata": {},
   "outputs": [],
   "source": []
  }
 ],
 "metadata": {
  "kernelspec": {
   "display_name": "Python 3",
   "language": "python",
   "name": "python3"
  },
  "language_info": {
   "codemirror_mode": {
    "name": "ipython",
    "version": 3
   },
   "file_extension": ".py",
   "mimetype": "text/x-python",
   "name": "python",
   "nbconvert_exporter": "python",
   "pygments_lexer": "ipython3",
   "version": "3.8.5"
  }
 },
 "nbformat": 4,
 "nbformat_minor": 4
}
