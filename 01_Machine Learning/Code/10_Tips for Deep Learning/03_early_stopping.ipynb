{
 "cells": [
  {
   "cell_type": "code",
   "execution_count": 1,
   "metadata": {},
   "outputs": [],
   "source": [
    "import numpy as np\n",
    "from tqdm import tqdm\n",
    "import matplotlib.pyplot as plt\n",
    "import seaborn as sns\n",
    "# sns.set(rc = {\"axes.titlesize\": 20, \"axes.labelsize\": 15, \"legend.fontsize\": 15, \\\n",
    "#               \"lines.linewidth\": 3, \"figure.figsize\": (9, 4)})"
   ]
  },
  {
   "cell_type": "code",
   "execution_count": 2,
   "metadata": {},
   "outputs": [
    {
     "name": "stdout",
     "output_type": "stream",
     "text": [
      "x_train shape: (60000, 784)\n",
      "x_test shape: (10000, 784)\n"
     ]
    }
   ],
   "source": [
    "import tensorflow as tf\n",
    "\n",
    "# Set parameters of data.\n",
    "num_classes = 10\n",
    "input_shape = (28 * 28,)\n",
    "\n",
    "# Get training_data and testing_data.\n",
    "(x_train, y_train), (x_test, y_test) = tf.keras.datasets.mnist.load_data()\n",
    "\n",
    "# Make sure each image has the shape (28 * 28, 1).\n",
    "x_train = x_train.reshape(x_train.shape[0], 28 * 28)\n",
    "x_test = x_test.reshape(x_test.shape[0], 28 * 28)\n",
    "\n",
    "# Scale images to the [0, 1] range.\n",
    "x_train = x_train.astype(\"float32\") / 255\n",
    "x_test = x_test.astype(\"float32\") / 255\n",
    "\n",
    "print(\"x_train shape:\", x_train.shape)\n",
    "print(\"x_test shape:\", x_test.shape)"
   ]
  },
  {
   "cell_type": "code",
   "execution_count": 3,
   "metadata": {},
   "outputs": [
    {
     "name": "stdout",
     "output_type": "stream",
     "text": [
      "Model: \"DNN\"\n",
      "_________________________________________________________________\n",
      "Layer (type)                 Output Shape              Param #   \n",
      "=================================================================\n",
      "hidden_layer_1 (Dense)       (None, 500)               392500    \n",
      "_________________________________________________________________\n",
      "hidden_layer_2 (Dense)       (None, 500)               250500    \n",
      "_________________________________________________________________\n",
      "output_layer (Dense)         (None, 10)                5010      \n",
      "=================================================================\n",
      "Total params: 648,010\n",
      "Trainable params: 648,010\n",
      "Non-trainable params: 0\n",
      "_________________________________________________________________\n"
     ]
    }
   ],
   "source": [
    "# Build the model.\n",
    "model = tf.keras.Sequential(\n",
    "    [\n",
    "        tf.keras.Input(shape=input_shape),\n",
    "        tf.keras.layers.Dense(500, activation=\"relu\", name=\"hidden_layer_1\"),\n",
    "        tf.keras.layers.Dense(500, activation=\"relu\", name=\"hidden_layer_2\"),\n",
    "        tf.keras.layers.Dense(num_classes, activation=\"softmax\", name=\"output_layer\"),\n",
    "    ], name = \"DNN\"\n",
    ")\n",
    "\n",
    "model.summary()"
   ]
  },
  {
   "cell_type": "code",
   "execution_count": 4,
   "metadata": {},
   "outputs": [
    {
     "name": "stdout",
     "output_type": "stream",
     "text": [
      "Epoch 1/15\n",
      "422/422 [==============================] - 3s 7ms/step - loss: 0.2365 - accuracy: 0.9307 - val_loss: 0.0931 - val_accuracy: 0.9712\n",
      "Epoch 2/15\n",
      "422/422 [==============================] - 3s 7ms/step - loss: 0.0869 - accuracy: 0.9728 - val_loss: 0.0841 - val_accuracy: 0.9750\n",
      "Epoch 3/15\n",
      "422/422 [==============================] - 3s 7ms/step - loss: 0.0547 - accuracy: 0.9827 - val_loss: 0.0779 - val_accuracy: 0.9765\n",
      "Epoch 4/15\n",
      "422/422 [==============================] - 3s 7ms/step - loss: 0.0383 - accuracy: 0.9876 - val_loss: 0.0670 - val_accuracy: 0.9817\n",
      "Epoch 5/15\n",
      "422/422 [==============================] - 3s 7ms/step - loss: 0.0279 - accuracy: 0.9910 - val_loss: 0.0754 - val_accuracy: 0.9828\n",
      "Epoch 6/15\n",
      "422/422 [==============================] - 3s 7ms/step - loss: 0.0201 - accuracy: 0.9933 - val_loss: 0.0750 - val_accuracy: 0.9808\n",
      "Epoch 7/15\n",
      "422/422 [==============================] - 3s 7ms/step - loss: 0.0193 - accuracy: 0.9936 - val_loss: 0.0701 - val_accuracy: 0.9828\n",
      "Epoch 8/15\n",
      "422/422 [==============================] - 3s 7ms/step - loss: 0.0162 - accuracy: 0.9948 - val_loss: 0.0806 - val_accuracy: 0.9805\n",
      "Epoch 9/15\n",
      "422/422 [==============================] - 3s 7ms/step - loss: 0.0158 - accuracy: 0.9945 - val_loss: 0.0682 - val_accuracy: 0.9833\n",
      "Epoch 00009: early stopping\n"
     ]
    }
   ],
   "source": [
    "# Train the model.\n",
    "batch_size = 128\n",
    "epochs = 15\n",
    "\n",
    "model.compile(loss=\"sparse_categorical_crossentropy\", optimizer=\"adam\", metrics=[\"accuracy\"])\n",
    "\n",
    "model.fit(x_train, y_train, batch_size=batch_size, epochs=epochs, validation_split=0.1, \\\n",
    "          callbacks = tf.keras.callbacks.EarlyStopping(monitor='val_loss', patience=5, verbose=1));"
   ]
  },
  {
   "cell_type": "code",
   "execution_count": 5,
   "metadata": {},
   "outputs": [
    {
     "name": "stdout",
     "output_type": "stream",
     "text": [
      "Test loss: 0.07055028527975082\n",
      "Test accuracy: 0.982200026512146\n"
     ]
    }
   ],
   "source": [
    "# Evaluate the trained model.\n",
    "test_loss, test_accuracy = model.evaluate(x_test, y_test, verbose=0)\n",
    "print(\"Test loss:\", test_loss)\n",
    "print(\"Test accuracy:\", test_accuracy)"
   ]
  },
  {
   "cell_type": "code",
   "execution_count": null,
   "metadata": {},
   "outputs": [],
   "source": []
  }
 ],
 "metadata": {
  "kernelspec": {
   "display_name": "Python 3",
   "language": "python",
   "name": "python3"
  },
  "language_info": {
   "codemirror_mode": {
    "name": "ipython",
    "version": 3
   },
   "file_extension": ".py",
   "mimetype": "text/x-python",
   "name": "python",
   "nbconvert_exporter": "python",
   "pygments_lexer": "ipython3",
   "version": "3.8.5"
  }
 },
 "nbformat": 4,
 "nbformat_minor": 4
}
