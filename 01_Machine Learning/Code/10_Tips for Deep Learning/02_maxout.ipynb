{
 "cells": [
  {
   "cell_type": "code",
   "execution_count": 1,
   "metadata": {},
   "outputs": [],
   "source": [
    "import numpy as np\n",
    "from tqdm import tqdm\n",
    "import matplotlib.pyplot as plt\n",
    "import seaborn as sns\n",
    "# sns.set(rc = {\"axes.titlesize\": 20, \"axes.labelsize\": 15, \"legend.fontsize\": 15, \\\n",
    "#               \"lines.linewidth\": 3, \"figure.figsize\": (9, 4)})"
   ]
  },
  {
   "cell_type": "code",
   "execution_count": 2,
   "metadata": {},
   "outputs": [
    {
     "name": "stdout",
     "output_type": "stream",
     "text": [
      "x_train shape: (60000, 784)\n",
      "x_test shape: (10000, 784)\n"
     ]
    }
   ],
   "source": [
    "import tensorflow as tf\n",
    "\n",
    "# Set parameters of data.\n",
    "num_classes = 10\n",
    "input_shape = (28 * 28,)\n",
    "\n",
    "# Get training_data and testing_data.\n",
    "(x_train, y_train), (x_test, y_test) = tf.keras.datasets.mnist.load_data()\n",
    "\n",
    "# Make sure each image has the shape (28 * 28, 1).\n",
    "x_train = x_train.reshape(x_train.shape[0], 28 * 28)\n",
    "x_test = x_test.reshape(x_test.shape[0], 28 * 28)\n",
    "\n",
    "# Scale images to the [0, 1] range.\n",
    "x_train = x_train.astype(\"float32\") / 255\n",
    "x_test = x_test.astype(\"float32\") / 255\n",
    "\n",
    "print(\"x_train shape:\", x_train.shape)\n",
    "print(\"x_test shape:\", x_test.shape)"
   ]
  },
  {
   "cell_type": "code",
   "execution_count": 3,
   "metadata": {},
   "outputs": [
    {
     "name": "stdout",
     "output_type": "stream",
     "text": [
      "Model: \"DNN_with_Maxout\"\n",
      "_________________________________________________________________\n",
      "Layer (type)                 Output Shape              Param #   \n",
      "=================================================================\n",
      "hidden_layer_1 (Dense)       (None, 1000)              785000    \n",
      "_________________________________________________________________\n",
      "maxout_1 (Maxout)            (None, 500)               0         \n",
      "_________________________________________________________________\n",
      "hidden_layer_2 (Dense)       (None, 1000)              501000    \n",
      "_________________________________________________________________\n",
      "maxout_2 (Maxout)            (None, 500)               0         \n",
      "_________________________________________________________________\n",
      "output_layer (Dense)         (None, 10)                5010      \n",
      "=================================================================\n",
      "Total params: 1,291,010\n",
      "Trainable params: 1,291,010\n",
      "Non-trainable params: 0\n",
      "_________________________________________________________________\n"
     ]
    }
   ],
   "source": [
    "import tensorflow_addons as tfa\n",
    "\n",
    "# Build the model.\n",
    "model = tf.keras.Sequential(\n",
    "    [\n",
    "        tf.keras.Input(shape=input_shape),\n",
    "        tf.keras.layers.Dense(500*2, name=\"hidden_layer_1\"),\n",
    "        tfa.layers.maxout.Maxout(num_units=500, name=\"maxout_1\"),\n",
    "        tf.keras.layers.Dense(500*2, name=\"hidden_layer_2\"),\n",
    "        tfa.layers.maxout.Maxout(num_units=500, name=\"maxout_2\"),\n",
    "        tf.keras.layers.Dense(num_classes, activation=\"softmax\", name=\"output_layer\"),\n",
    "    ], name = \"DNN_with_Maxout\"\n",
    ")\n",
    "\n",
    "model.summary()"
   ]
  },
  {
   "cell_type": "code",
   "execution_count": 4,
   "metadata": {},
   "outputs": [
    {
     "name": "stdout",
     "output_type": "stream",
     "text": [
      "Epoch 1/15\n",
      "422/422 [==============================] - 6s 13ms/step - loss: 0.2062 - accuracy: 0.9371 - val_loss: 0.1025 - val_accuracy: 0.9702\n",
      "Epoch 2/15\n",
      "422/422 [==============================] - 6s 13ms/step - loss: 0.0912 - accuracy: 0.9723 - val_loss: 0.1001 - val_accuracy: 0.9730\n",
      "Epoch 3/15\n",
      "422/422 [==============================] - 6s 13ms/step - loss: 0.0634 - accuracy: 0.9799 - val_loss: 0.0876 - val_accuracy: 0.9762\n",
      "Epoch 4/15\n",
      "422/422 [==============================] - 6s 13ms/step - loss: 0.0543 - accuracy: 0.9836 - val_loss: 0.0907 - val_accuracy: 0.9780\n",
      "Epoch 5/15\n",
      "422/422 [==============================] - 6s 13ms/step - loss: 0.0379 - accuracy: 0.9881 - val_loss: 0.0772 - val_accuracy: 0.9822\n",
      "Epoch 6/15\n",
      "422/422 [==============================] - 6s 13ms/step - loss: 0.0410 - accuracy: 0.9874 - val_loss: 0.1068 - val_accuracy: 0.9775\n",
      "Epoch 7/15\n",
      "422/422 [==============================] - 6s 13ms/step - loss: 0.0335 - accuracy: 0.9894 - val_loss: 0.1073 - val_accuracy: 0.9797\n",
      "Epoch 8/15\n",
      "422/422 [==============================] - 6s 13ms/step - loss: 0.0367 - accuracy: 0.9898 - val_loss: 0.1330 - val_accuracy: 0.9750\n",
      "Epoch 9/15\n",
      "422/422 [==============================] - 6s 13ms/step - loss: 0.0361 - accuracy: 0.9892 - val_loss: 0.1146 - val_accuracy: 0.9783\n",
      "Epoch 10/15\n",
      "422/422 [==============================] - 6s 13ms/step - loss: 0.0226 - accuracy: 0.9935 - val_loss: 0.1104 - val_accuracy: 0.9823\n",
      "Epoch 11/15\n",
      "422/422 [==============================] - 6s 13ms/step - loss: 0.0269 - accuracy: 0.9925 - val_loss: 0.1353 - val_accuracy: 0.9795\n",
      "Epoch 12/15\n",
      "422/422 [==============================] - 6s 13ms/step - loss: 0.0212 - accuracy: 0.9941 - val_loss: 0.1105 - val_accuracy: 0.9837\n",
      "Epoch 13/15\n",
      "422/422 [==============================] - 6s 13ms/step - loss: 0.0336 - accuracy: 0.9913 - val_loss: 0.1358 - val_accuracy: 0.9790\n",
      "Epoch 14/15\n",
      "422/422 [==============================] - 6s 13ms/step - loss: 0.0232 - accuracy: 0.9936 - val_loss: 0.1303 - val_accuracy: 0.9793\n",
      "Epoch 15/15\n",
      "422/422 [==============================] - 6s 13ms/step - loss: 0.0276 - accuracy: 0.9927 - val_loss: 0.1672 - val_accuracy: 0.9797\n"
     ]
    }
   ],
   "source": [
    "# Train the model.\n",
    "batch_size = 128\n",
    "epochs = 15\n",
    "\n",
    "model.compile(loss=\"sparse_categorical_crossentropy\", optimizer=\"adam\", metrics=[\"accuracy\"])\n",
    "\n",
    "model.fit(x_train, y_train, batch_size=batch_size, epochs=epochs, validation_split=0.1);"
   ]
  },
  {
   "cell_type": "code",
   "execution_count": 5,
   "metadata": {},
   "outputs": [
    {
     "name": "stdout",
     "output_type": "stream",
     "text": [
      "Test loss: 0.15073762834072113\n",
      "Test accuracy: 0.9776999950408936\n"
     ]
    }
   ],
   "source": [
    "# Evaluate the trained model.\n",
    "test_loss, test_accuracy = model.evaluate(x_test, y_test, verbose=0)\n",
    "print(\"Test loss:\", test_loss)\n",
    "print(\"Test accuracy:\", test_accuracy)"
   ]
  },
  {
   "cell_type": "code",
   "execution_count": null,
   "metadata": {},
   "outputs": [],
   "source": []
  }
 ],
 "metadata": {
  "kernelspec": {
   "display_name": "Python 3",
   "language": "python",
   "name": "python3"
  },
  "language_info": {
   "codemirror_mode": {
    "name": "ipython",
    "version": 3
   },
   "file_extension": ".py",
   "mimetype": "text/x-python",
   "name": "python",
   "nbconvert_exporter": "python",
   "pygments_lexer": "ipython3",
   "version": "3.8.5"
  }
 },
 "nbformat": 4,
 "nbformat_minor": 4
}
