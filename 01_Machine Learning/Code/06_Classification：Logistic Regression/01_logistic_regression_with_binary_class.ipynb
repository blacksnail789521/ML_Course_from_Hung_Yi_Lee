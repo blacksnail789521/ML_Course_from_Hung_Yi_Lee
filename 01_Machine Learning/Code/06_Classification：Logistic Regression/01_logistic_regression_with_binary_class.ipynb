{
 "cells": [
  {
   "cell_type": "code",
   "execution_count": 1,
   "metadata": {},
   "outputs": [],
   "source": [
    "import numpy as np\n",
    "from tqdm import tqdm\n",
    "import matplotlib.pyplot as plt\n",
    "import seaborn as sns\n",
    "# sns.set(rc = {\"axes.titlesize\": 20, \"axes.labelsize\": 15, \"legend.fontsize\": 15, \\\n",
    "#               \"lines.linewidth\": 3, \"figure.figsize\": (9, 4)})"
   ]
  },
  {
   "cell_type": "code",
   "execution_count": 2,
   "metadata": {},
   "outputs": [],
   "source": [
    "def create_dataset():\n",
    "    \n",
    "    # General a toy dataset:s it's just a straight line with some Gaussian noise:\n",
    "    xmin, xmax = -5, 5\n",
    "    n_samples = 100\n",
    "    np.random.seed(0)\n",
    "    X = np.random.normal(size=n_samples)\n",
    "    y = (X > 0).astype(np.float)\n",
    "    X[X > 0] *= 4\n",
    "    X += .3 * np.random.normal(size=n_samples)\n",
    "\n",
    "    X = X[:, np.newaxis]\n",
    "    \n",
    "    return X, y\n",
    "\n",
    "\n",
    "X_train, y_train = create_dataset()"
   ]
  },
  {
   "cell_type": "code",
   "execution_count": 3,
   "metadata": {},
   "outputs": [],
   "source": [
    "from sklearn.linear_model import LogisticRegression\n",
    "\n",
    "def train_model(X, y):\n",
    "    \n",
    "    # Fit the classifier\n",
    "    clf = LogisticRegression(C=1e5)\n",
    "    clf.fit(X, y)\n",
    "    \n",
    "    return clf\n",
    "    \n",
    "\n",
    "clf = train_model(X_train, y_train)"
   ]
  },
  {
   "cell_type": "code",
   "execution_count": 4,
   "metadata": {},
   "outputs": [
    {
     "data": {
      "image/png": "[encoded data removed]",
      "text/plain": [
       "<Figure size 288x216 with 1 Axes>"
      ]
     },
     "metadata": {
      "needs_background": "light"
     },
     "output_type": "display_data"
    }
   ],
   "source": [
    "from sklearn.linear_model import LinearRegression\n",
    "from scipy.special import expit\n",
    "\n",
    "def plot_training_result(X, y, clf):\n",
    "    \n",
    "    # and plot the result\n",
    "    plt.figure(1, figsize=(4, 3))\n",
    "    plt.clf()\n",
    "    plt.scatter(X.ravel(), y, color='black', zorder=20)\n",
    "    X_test = np.linspace(-5, 10, 300)\n",
    "\n",
    "    loss = expit(X_test * clf.coef_ + clf.intercept_).ravel()\n",
    "    plt.plot(X_test, loss, color='red', linewidth=3)\n",
    "\n",
    "    ols = LinearRegression()\n",
    "    ols.fit(X, y)\n",
    "    plt.plot(X_test, ols.coef_ * X_test + ols.intercept_, linewidth=1)\n",
    "    plt.axhline(.5, color='.5')\n",
    "\n",
    "    plt.ylabel('y')\n",
    "    plt.xlabel('X')\n",
    "    plt.xticks(range(-5, 10))\n",
    "    plt.yticks([0, 0.5, 1])\n",
    "    plt.ylim(-.25, 1.25)\n",
    "    plt.xlim(-4, 10)\n",
    "    plt.legend(('Logistic Regression Model', 'Linear Regression Model'),\n",
    "               loc=\"lower right\", fontsize='small')\n",
    "    plt.tight_layout()\n",
    "    plt.show()\n",
    "\n",
    "\n",
    "plot_training_result(X_train, y_train, clf)"
   ]
  },
  {
   "cell_type": "raw",
   "metadata": {},
   "source": [
    "When using logistic regression, we are still fitting a line, but the output of it is the probability. If y >= 0.5, it means that we should label this x as \"1\"."
   ]
  }
 ],
 "metadata": {
  "kernelspec": {
   "display_name": "Python 3",
   "language": "python",
   "name": "python3"
  },
  "language_info": {
   "codemirror_mode": {
    "name": "ipython",
    "version": 3
   },
   "file_extension": ".py",
   "mimetype": "text/x-python",
   "name": "python",
   "nbconvert_exporter": "python",
   "pygments_lexer": "ipython3",
   "version": "3.8.5"
  }
 },
 "nbformat": 4,
 "nbformat_minor": 4
}
